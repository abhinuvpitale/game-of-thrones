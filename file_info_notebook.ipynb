{
 "cells": [
  {
   "cell_type": "code",
   "execution_count": 2,
   "metadata": {},
   "outputs": [],
   "source": [
    "import pandas as pd\n",
    "import matplotlib\n",
    "import numpy"
   ]
  },
  {
   "cell_type": "code",
   "execution_count": 4,
   "metadata": {},
   "outputs": [],
   "source": [
    "file_info = pd.read_csv('file_info.csv')"
   ]
  },
  {
   "cell_type": "code",
   "execution_count": 5,
   "metadata": {},
   "outputs": [
    {
     "data": {
      "text/html": [
       "<div>\n",
       "<style>\n",
       "    .dataframe thead tr:only-child th {\n",
       "        text-align: right;\n",
       "    }\n",
       "\n",
       "    .dataframe thead th {\n",
       "        text-align: left;\n",
       "    }\n",
       "\n",
       "    .dataframe tbody tr th {\n",
       "        vertical-align: top;\n",
       "    }\n",
       "</style>\n",
       "<table border=\"1\" class=\"dataframe\">\n",
       "  <thead>\n",
       "    <tr style=\"text-align: right;\">\n",
       "      <th></th>\n",
       "      <th>id</th>\n",
       "      <th>date</th>\n",
       "      <th>user</th>\n",
       "      <th>pc</th>\n",
       "      <th>filename</th>\n",
       "      <th>content</th>\n",
       "    </tr>\n",
       "  </thead>\n",
       "  <tbody>\n",
       "    <tr>\n",
       "      <th>count</th>\n",
       "      <td>445581</td>\n",
       "      <td>445581</td>\n",
       "      <td>445581</td>\n",
       "      <td>445581</td>\n",
       "      <td>445581</td>\n",
       "      <td>445581</td>\n",
       "    </tr>\n",
       "    <tr>\n",
       "      <th>unique</th>\n",
       "      <td>445581</td>\n",
       "      <td>432924</td>\n",
       "      <td>264</td>\n",
       "      <td>956</td>\n",
       "      <td>445581</td>\n",
       "      <td>423033</td>\n",
       "    </tr>\n",
       "    <tr>\n",
       "      <th>top</th>\n",
       "      <td>{V2V5-C7WB25TY-6975BTGY}</td>\n",
       "      <td>04/14/2010 14:43:32</td>\n",
       "      <td>HSB0196</td>\n",
       "      <td>PC-8001</td>\n",
       "      <td>QR1UGQL5.doc</td>\n",
       "      <td>FF-D8</td>\n",
       "    </tr>\n",
       "    <tr>\n",
       "      <th>freq</th>\n",
       "      <td>1</td>\n",
       "      <td>13</td>\n",
       "      <td>11627</td>\n",
       "      <td>11640</td>\n",
       "      <td>1</td>\n",
       "      <td>22549</td>\n",
       "    </tr>\n",
       "  </tbody>\n",
       "</table>\n",
       "</div>"
      ],
      "text/plain": [
       "                              id                 date     user       pc  \\\n",
       "count                     445581               445581   445581   445581   \n",
       "unique                    445581               432924      264      956   \n",
       "top     {V2V5-C7WB25TY-6975BTGY}  04/14/2010 14:43:32  HSB0196  PC-8001   \n",
       "freq                           1                   13    11627    11640   \n",
       "\n",
       "            filename content  \n",
       "count         445581  445581  \n",
       "unique        445581  423033  \n",
       "top     QR1UGQL5.doc   FF-D8  \n",
       "freq               1   22549  "
      ]
     },
     "execution_count": 5,
     "metadata": {},
     "output_type": "execute_result"
    }
   ],
   "source": [
    "file_info.describe()\n"
   ]
  },
  {
   "cell_type": "code",
   "execution_count": 6,
   "metadata": {},
   "outputs": [
    {
     "name": "stdout",
     "output_type": "stream",
     "text": [
      "<class 'pandas.core.frame.DataFrame'>\n",
      "RangeIndex: 445581 entries, 0 to 445580\n",
      "Data columns (total 6 columns):\n",
      "id          445581 non-null object\n",
      "date        445581 non-null object\n",
      "user        445581 non-null object\n",
      "pc          445581 non-null object\n",
      "filename    445581 non-null object\n",
      "content     445581 non-null object\n",
      "dtypes: object(6)\n",
      "memory usage: 10.2+ MB\n"
     ]
    }
   ],
   "source": [
    "file_info.info()"
   ]
  },
  {
   "cell_type": "code",
   "execution_count": 7,
   "metadata": {},
   "outputs": [
    {
     "data": {
      "text/html": [
       "<div>\n",
       "<style>\n",
       "    .dataframe thead tr:only-child th {\n",
       "        text-align: right;\n",
       "    }\n",
       "\n",
       "    .dataframe thead th {\n",
       "        text-align: left;\n",
       "    }\n",
       "\n",
       "    .dataframe tbody tr th {\n",
       "        vertical-align: top;\n",
       "    }\n",
       "</style>\n",
       "<table border=\"1\" class=\"dataframe\">\n",
       "  <thead>\n",
       "    <tr style=\"text-align: right;\">\n",
       "      <th></th>\n",
       "      <th>id</th>\n",
       "      <th>date</th>\n",
       "      <th>user</th>\n",
       "      <th>pc</th>\n",
       "      <th>filename</th>\n",
       "      <th>content</th>\n",
       "    </tr>\n",
       "  </thead>\n",
       "  <tbody>\n",
       "    <tr>\n",
       "      <th>0</th>\n",
       "      <td>{L9G8-J9QE34VM-2834VDPB}</td>\n",
       "      <td>01/02/2010 07:23:14</td>\n",
       "      <td>MOH0273</td>\n",
       "      <td>PC-6699</td>\n",
       "      <td>EYPC9Y08.doc</td>\n",
       "      <td>D0-CF-11-E0-A1-B1-1A-E1 during difficulty over...</td>\n",
       "    </tr>\n",
       "    <tr>\n",
       "      <th>1</th>\n",
       "      <td>{H0W6-L4FG38XG-9897XTEN}</td>\n",
       "      <td>01/02/2010 07:26:19</td>\n",
       "      <td>MOH0273</td>\n",
       "      <td>PC-6699</td>\n",
       "      <td>N3LTSU3O.pdf</td>\n",
       "      <td>25-50-44-46-2D carpenters 25 landed strait dis...</td>\n",
       "    </tr>\n",
       "    <tr>\n",
       "      <th>2</th>\n",
       "      <td>{M3Z0-O2KK89OX-5716MBIM}</td>\n",
       "      <td>01/02/2010 08:12:03</td>\n",
       "      <td>HPH0075</td>\n",
       "      <td>PC-2417</td>\n",
       "      <td>D3D3WC9W.doc</td>\n",
       "      <td>D0-CF-11-E0-A1-B1-1A-E1 union 24 declined impo...</td>\n",
       "    </tr>\n",
       "    <tr>\n",
       "      <th>3</th>\n",
       "      <td>{E1I4-S4QS61TG-3652YHKR}</td>\n",
       "      <td>01/02/2010 08:17:00</td>\n",
       "      <td>HPH0075</td>\n",
       "      <td>PC-2417</td>\n",
       "      <td>QCSW62YS.doc</td>\n",
       "      <td>D0-CF-11-E0-A1-B1-1A-E1 becoming period begin ...</td>\n",
       "    </tr>\n",
       "    <tr>\n",
       "      <th>4</th>\n",
       "      <td>{D4R7-E7JL45UX-0067XALT}</td>\n",
       "      <td>01/02/2010 08:24:57</td>\n",
       "      <td>HSB0196</td>\n",
       "      <td>PC-8001</td>\n",
       "      <td>AU75JV6U.jpg</td>\n",
       "      <td>FF-D8</td>\n",
       "    </tr>\n",
       "  </tbody>\n",
       "</table>\n",
       "</div>"
      ],
      "text/plain": [
       "                         id                 date     user       pc  \\\n",
       "0  {L9G8-J9QE34VM-2834VDPB}  01/02/2010 07:23:14  MOH0273  PC-6699   \n",
       "1  {H0W6-L4FG38XG-9897XTEN}  01/02/2010 07:26:19  MOH0273  PC-6699   \n",
       "2  {M3Z0-O2KK89OX-5716MBIM}  01/02/2010 08:12:03  HPH0075  PC-2417   \n",
       "3  {E1I4-S4QS61TG-3652YHKR}  01/02/2010 08:17:00  HPH0075  PC-2417   \n",
       "4  {D4R7-E7JL45UX-0067XALT}  01/02/2010 08:24:57  HSB0196  PC-8001   \n",
       "\n",
       "       filename                                            content  \n",
       "0  EYPC9Y08.doc  D0-CF-11-E0-A1-B1-1A-E1 during difficulty over...  \n",
       "1  N3LTSU3O.pdf  25-50-44-46-2D carpenters 25 landed strait dis...  \n",
       "2  D3D3WC9W.doc  D0-CF-11-E0-A1-B1-1A-E1 union 24 declined impo...  \n",
       "3  QCSW62YS.doc  D0-CF-11-E0-A1-B1-1A-E1 becoming period begin ...  \n",
       "4  AU75JV6U.jpg                                              FF-D8  "
      ]
     },
     "execution_count": 7,
     "metadata": {},
     "output_type": "execute_result"
    }
   ],
   "source": [
    "file_info.head()"
   ]
  },
  {
   "cell_type": "code",
   "execution_count": 12,
   "metadata": {},
   "outputs": [
    {
     "data": {
      "text/plain": [
       "0         [D0-CF-11-E0-A1-B1-1A-E1, during, difficulty, ...\n",
       "1         [25-50-44-46-2D, carpenters, 25, landed, strai...\n",
       "2         [D0-CF-11-E0-A1-B1-1A-E1, union, 24, declined,...\n",
       "3         [D0-CF-11-E0-A1-B1-1A-E1, becoming, period, be...\n",
       "4                                                   [FF-D8]\n",
       "5         [D0-CF-11-E0-A1-B1-1A-E1, county, one, able, 1...\n",
       "6         [D0-CF-11-E0-A1-B1-1A-E1, special, decided, ba...\n",
       "7         [D0-CF-11-E0-A1-B1-1A-E1, major, became, many,...\n",
       "8         [D0-CF-11-E0-A1-B1-1A-E1, yet, chamberlain, ow...\n",
       "9         [D0-CF-11-E0-A1-B1-1A-E1, identify, 1942, comm...\n",
       "10        [25-50-44-46-2D, found, british, conflict, clo...\n",
       "11        [5A-55-4B-41, patients, addresses, evacuated, ...\n",
       "12        [46-34-56-57, ships, approach, march, well, 19...\n",
       "13        [25-50-44-46-2D, 3000, wardeux, piece, apparen...\n",
       "14        [D0-CF-11-E0-A1-B1-1A-E1, securing, brigade, h...\n",
       "15        [D0-CF-11-E0-A1-B1-1A-E1, lands, effectively, ...\n",
       "16        [44-33-49-35, though, answered, morning, up, w...\n",
       "17        [D0-CF-11-E0-A1-B1-1A-E1, protect, accidents, ...\n",
       "18        [25-50-44-46-2D, realized, up, followed, compr...\n",
       "19        [D0-CF-11-E0-A1-B1-1A-E1, fathers, retainers, ...\n",
       "20        [25-50-44-46-2D, piece, defensive, large, time...\n",
       "21        [D0-CF-11-E0-A1-B1-1A-E1, degree, both, left, ...\n",
       "22        [50-4B-03-04-14, known, won, affair, however, ...\n",
       "23        [D0-CF-11-E0-A1-B1-1A-E1, 0500, browning, navy...\n",
       "24        [D0-CF-11-E0-A1-B1-1A-E1, marriage, or, lower,...\n",
       "25        [D0-CF-11-E0-A1-B1-1A-E1, hastily, apparently,...\n",
       "26        [50-4B-03-04-14, done, stood, exploited, desig...\n",
       "27        [D0-CF-11-E0-A1-B1-1A-E1, rigsraad, young, ini...\n",
       "28        [25-50-44-46-2D, meet, occupied, 60, home, thi...\n",
       "29        [D0-CF-11-E0-A1-B1-1A-E1, marriage, eat, visib...\n",
       "                                ...                        \n",
       "445551    [D0-CF-11-E0-A1-B1-1A-E1, platform, responsibi...\n",
       "445552    [D0-CF-11-E0-A1-B1-1A-E1, required, analyze, a...\n",
       "445553    [4A-42-41-35, t, five, malnutrition, response,...\n",
       "445554    [D0-CF-11-E0-A1-B1-1A-E1, limited, paired, 110...\n",
       "445555    [D0-CF-11-E0-A1-B1-1A-E1, simple, belonging, d...\n",
       "445556    [D0-CF-11-E0-A1-B1-1A-E1, for, sophisticated, ...\n",
       "445557    [D0-CF-11-E0-A1-B1-1A-E1, tiny, behest, statem...\n",
       "445558                                              [FF-D8]\n",
       "445559    [D0-CF-11-E0-A1-B1-1A-E1, relatively, gather, ...\n",
       "445560    [25-50-44-46-2D, became, german, last, during,...\n",
       "445561    [52-34-37-47, had, next, sixty, over, jump, ai...\n",
       "445562    [D0-CF-11-E0-A1-B1-1A-E1, officially, encircli...\n",
       "445563    [D0-CF-11-E0-A1-B1-1A-E1, ensure, had, brief, ...\n",
       "445564    [D0-CF-11-E0-A1-B1-1A-E1, march, whilst, their...\n",
       "445565    [50-4B-03-04-14, medical, school, found, easte...\n",
       "445566                                              [FF-D8]\n",
       "445567    [25-50-44-46-2D, is, expeditionary, preceding,...\n",
       "445568    [25-50-44-46-2D, world, brought, details, 18th...\n",
       "445569                                              [FF-D8]\n",
       "445570    [D0-CF-11-E0-A1-B1-1A-E1, captured, crew, capt...\n",
       "445571    [D0-CF-11-E0-A1-B1-1A-E1, took, press, fellow,...\n",
       "445572    [D0-CF-11-E0-A1-B1-1A-E1, respected, life, tho...\n",
       "445573    [D0-CF-11-E0-A1-B1-1A-E1, showed, director, co...\n",
       "445574    [D0-CF-11-E0-A1-B1-1A-E1, hundred, recovered, ...\n",
       "445575    [D0-CF-11-E0-A1-B1-1A-E1, transferred, etricou...\n",
       "445576    [5A-44-4F-39, government, operations, led, wou...\n",
       "445577    [25-50-44-46-2D, throughout, 20, once, armed, ...\n",
       "445578    [D0-CF-11-E0-A1-B1-1A-E1, companies, river, en...\n",
       "445579    [25-50-44-46-2D, member, august, observed, sel...\n",
       "445580    [D0-CF-11-E0-A1-B1-1A-E1, insurance, which, br...\n",
       "Name: content, Length: 445581, dtype: object"
      ]
     },
     "execution_count": 12,
     "metadata": {},
     "output_type": "execute_result"
    }
   ],
   "source": [
    "file_info['content'].str.split(' ')"
   ]
  },
  {
   "cell_type": "code",
   "execution_count": 11,
   "metadata": {},
   "outputs": [
    {
     "data": {
      "text/plain": [
       "u'0.20.3'"
      ]
     },
     "execution_count": 11,
     "metadata": {},
     "output_type": "execute_result"
    }
   ],
   "source": [
    "pd.__version__"
   ]
  },
  {
   "cell_type": "code",
   "execution_count": 25,
   "metadata": {},
   "outputs": [],
   "source": [
    "groupUser = file_info.groupby('user').count()"
   ]
  },
  {
   "cell_type": "code",
   "execution_count": null,
   "metadata": {},
   "outputs": [],
   "source": [
    "groupUser(groupUser['id']==1)"
   ]
  },
  {
   "cell_type": "code",
   "execution_count": null,
   "metadata": {
    "collapsed": true
   },
   "outputs": [],
   "source": []
  }
 ],
 "metadata": {
  "kernelspec": {
   "display_name": "Python 2",
   "language": "python",
   "name": "python2"
  },
  "language_info": {
   "codemirror_mode": {
    "name": "ipython",
    "version": 2
   },
   "file_extension": ".py",
   "mimetype": "text/x-python",
   "name": "python",
   "nbconvert_exporter": "python",
   "pygments_lexer": "ipython2",
   "version": "2.7.13"
  }
 },
 "nbformat": 4,
 "nbformat_minor": 2
}
